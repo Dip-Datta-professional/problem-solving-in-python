{
 "cells": [
  {
   "cell_type": "markdown",
   "id": "d10eedf2-5871-4e82-b98d-cd95a279f3ad",
   "metadata": {},
   "source": [
    "#Assignment"
   ]
  },
  {
   "cell_type": "code",
   "execution_count": 4,
   "id": "2362a02d-4a2e-4357-958c-101efb497f69",
   "metadata": {},
   "outputs": [
    {
     "name": "stdin",
     "output_type": "stream",
     "text": [
      "enter number: 12\n",
      "enter number: 20\n"
     ]
    },
    {
     "name": "stdout",
     "output_type": "stream",
     "text": [
      "value of first data entry: 20\n",
      "value of second data entry: 12\n"
     ]
    }
   ],
   "source": [
    "#Write a program that swaps the values of two variables.\n",
    "a =int(input('enter number:'))\n",
    "b =int(input('enter number:'))\n",
    "swap = a\n",
    "a=b\n",
    "b = swap\n",
    "print('value of first data entry:',a)\n",
    "print('value of second data entry:',b)\n"
   ]
  },
  {
   "cell_type": "code",
   "execution_count": 2,
   "id": "33051a49-c108-4f13-8abc-6e2a7266453b",
   "metadata": {},
   "outputs": [
    {
     "name": "stdout",
     "output_type": "stream",
     "text": [
      "50\n"
     ]
    }
   ],
   "source": [
    "#Write a program that calculates the area of a rectangle given its length and width\n",
    "length = 10\n",
    "width = 5\n",
    "area = length * width\n",
    "print(area)\n"
   ]
  },
  {
   "cell_type": "code",
   "execution_count": 3,
   "id": "b8d0933f-b83a-448a-a394-2b9867f65581",
   "metadata": {},
   "outputs": [
    {
     "name": "stdout",
     "output_type": "stream",
     "text": [
      "4.444444444444445\n"
     ]
    }
   ],
   "source": [
    "#Write a program that converts temperature from Fahrenheit to Celsius\n",
    "fahrenheit = 40\n",
    "in_celcius = (fahrenheit-32) * 5/9\n",
    "print(in_celcius)"
   ]
  },
  {
   "cell_type": "code",
   "execution_count": 4,
   "id": "a5760cbe-17a8-426c-962d-f3ddacc7a171",
   "metadata": {},
   "outputs": [
    {
     "name": "stdout",
     "output_type": "stream",
     "text": [
      "57905.971199999985\n"
     ]
    }
   ],
   "source": [
    "#Write a program that calculates the volume of a sphere given its radius.\n",
    "r= 24\n",
    "pi = 3.1416\n",
    "volume_of_sphere = 4/3 * pi * r*r*r\n",
    "print(volume_of_sphere)"
   ]
  },
  {
   "cell_type": "code",
   "execution_count": 5,
   "id": "9ddee505-81fb-4abe-a3c5-5aa23c53501a",
   "metadata": {},
   "outputs": [
    {
     "name": "stdout",
     "output_type": "stream",
     "text": [
      "20.0\n"
     ]
    }
   ],
   "source": [
    "#Write a program that finds the average of three numbers\n",
    "a=10\n",
    "b=20\n",
    "c=30\n",
    "avg =(a+b+c)/3\n",
    "print(avg)"
   ]
  },
  {
   "cell_type": "code",
   "execution_count": 6,
   "id": "b7555bcd-588d-4f46-8534-d999792df168",
   "metadata": {},
   "outputs": [
    {
     "name": "stdout",
     "output_type": "stream",
     "text": [
      "even number\n"
     ]
    }
   ],
   "source": [
    "#Write a program that determines if a number is even or odd.\n",
    "num = 20\n",
    "if num%2 == 0:\n",
    "    print('even number')\n",
    "else :\n",
    "    print('odd number')"
   ]
  },
  {
   "cell_type": "code",
   "execution_count": 7,
   "id": "31812d69-71c8-4ac7-adad-ee5ced422c3b",
   "metadata": {},
   "outputs": [
    {
     "name": "stdout",
     "output_type": "stream",
     "text": [
      "30\n"
     ]
    }
   ],
   "source": [
    "# Write a program that finds the maximum of three numbers\n",
    "a = 10\n",
    "b =20\n",
    "c =30\n",
    "if a>b and a>c :\n",
    "    print(a)\n",
    "elif b>a and b>c:\n",
    "    print(b)\n",
    "else:\n",
    "    print(c)"
   ]
  },
  {
   "cell_type": "code",
   "execution_count": 8,
   "id": "10c1d517-8a4b-4fd2-acd5-bce2059c0e23",
   "metadata": {},
   "outputs": [
    {
     "name": "stdout",
     "output_type": "stream",
     "text": [
      "2028 is leap year\n"
     ]
    }
   ],
   "source": [
    "#Write a program that determines if a year is a leap year or not.\n",
    "year = 2028\n",
    "if year% 400 == 0:\n",
    "    print(year,'is leap year')\n",
    "elif year%100 ==0:\n",
    "    print(year,'is not leap year')\n",
    "elif year % 4 == 0:\n",
    "    print(year,'is leap year')\n",
    "else :\n",
    "    print(year,'is not leap year')"
   ]
  },
  {
   "cell_type": "code",
   "execution_count": 9,
   "id": "a458e292-ad53-4a36-a87d-abfc241f0e75",
   "metadata": {},
   "outputs": [
    {
     "name": "stdout",
     "output_type": "stream",
     "text": [
      "negative\n"
     ]
    }
   ],
   "source": [
    "#Write a program that determines if a number is positive, negative, or zero\n",
    "num = -24\n",
    "if num>0 : \n",
    "    print('positive')\n",
    "\n",
    "elif num < 0 :\n",
    "    print('negative')\n",
    "elif num == 0:\n",
    "    print('zero')"
   ]
  },
  {
   "cell_type": "code",
   "execution_count": 10,
   "id": "ec32752b-dca6-4499-bbc5-4eee965a8b2f",
   "metadata": {},
   "outputs": [
    {
     "name": "stdout",
     "output_type": "stream",
     "text": [
      "Grade A+\n"
     ]
    }
   ],
   "source": [
    "# Write a program that calculates the grade based on a given percentage\n",
    "mark = 95\n",
    "if mark < 0:\n",
    "    print('invaild mark')\n",
    "\n",
    "elif mark < 50:\n",
    "    print('Grade F')\n",
    "elif mark >= 50 and mark < 60:\n",
    "    print('Grade D')\n",
    "elif mark >= 60 and mark < 70:\n",
    "    print('Grade C')\n",
    "elif mark >= 70 and mark < 80:\n",
    "    print('Grade B')\n",
    "elif mark >=80 and mark < 90 :\n",
    "    print('Grade A')\n",
    "else :\n",
    "    print('Grade A+')"
   ]
  },
  {
   "cell_type": "markdown",
   "id": "b1b7a391-afc8-4f26-ae9d-c108137160d7",
   "metadata": {},
   "source": [
    "#Loop "
   ]
  },
  {
   "cell_type": "code",
   "execution_count": 11,
   "id": "5e8a8ffe-fda0-46d7-a94f-95d58b06690b",
   "metadata": {},
   "outputs": [
    {
     "name": "stdin",
     "output_type": "stream",
     "text": [
      "Enter any number :  12\n"
     ]
    },
    {
     "name": "stdout",
     "output_type": "stream",
     "text": [
      "\n",
      "Natural numbers from 1 to 12\n",
      "1 2 3 4 5 6 7 8 9 10 11 12 "
     ]
    }
   ],
   "source": [
    "# Write a program that prints the first `n` natural numbers\n",
    "num = int(input(\"Enter any number : \"))\n",
    "\n",
    "print(\"\\nNatural numbers from 1 to\", num)\n",
    "\n",
    "for i in range(1, num + 1):\n",
    "    print(i, end=\" \")"
   ]
  },
  {
   "cell_type": "code",
   "execution_count": 12,
   "id": "b24ebaae-3772-4480-ba95-64e6962d434a",
   "metadata": {},
   "outputs": [
    {
     "name": "stdin",
     "output_type": "stream",
     "text": [
      "Enter number for getting factorial :  6\n"
     ]
    },
    {
     "name": "stdout",
     "output_type": "stream",
     "text": [
      "The result :\n",
      "720\n",
      "the factorial of  6 is 720\n"
     ]
    }
   ],
   "source": [
    "# Write a program that calculates the factorial of a number.\n",
    "num = int (input(\"Enter number for getting factorial : \"))\n",
    "print('The result :')\n",
    "fact = 1\n",
    "for i in range(1,num+1):\n",
    "    fact*=i\n",
    "print(fact)\n",
    "print('the factorial of ', num ,'is', fact)\n",
    "           \n",
    "           "
   ]
  },
  {
   "cell_type": "code",
   "execution_count": 13,
   "id": "13e1673a-4b20-4964-92c7-629312bf4b64",
   "metadata": {},
   "outputs": [
    {
     "name": "stdin",
     "output_type": "stream",
     "text": [
      "Enter number for getting Fibonacci sequence :  10\n"
     ]
    },
    {
     "name": "stdout",
     "output_type": "stream",
     "text": [
      "0 1 1 2 3 5 8 13 21 34 "
     ]
    }
   ],
   "source": [
    "# Write a program that generates a Fibonacci sequence of length `n`.Fibonacci sequence: 0 1 1 2 3 5 8 13\n",
    "num = int (input(\"Enter number for getting Fibonacci sequence : \"))\n",
    "f1=0\n",
    "f2=1\n",
    "if num == 1:\n",
    "    print(f1)\n",
    "elif num == 2:\n",
    "    print(f2)\n",
    "else:\n",
    "    print(f1,f2,end=' ')\n",
    "    for i in range(3,num+1):\n",
    "        f3=f1+f2\n",
    "        print(f3,end=' ')\n",
    "        f1=f2\n",
    "        f2=f3"
   ]
  },
  {
   "cell_type": "code",
   "execution_count": 14,
   "id": "c1519014-63e6-451f-a815-639f601775b6",
   "metadata": {},
   "outputs": [
    {
     "name": "stdin",
     "output_type": "stream",
     "text": [
      "Enter number for checking that a given number is prime or not :  12\n"
     ]
    },
    {
     "name": "stdout",
     "output_type": "stream",
     "text": [
      "not prime\n"
     ]
    }
   ],
   "source": [
    "# Write a program that checks if a given number is prime or not\n",
    "num = int (input(\"Enter number for checking that a given number is prime or not : \"))\n",
    "for i in range(1,num):\n",
    "    if num%i == 0:\n",
    "        print(\"not prime\")\n",
    "        break\n",
    "else:\n",
    "    print('Prime number')"
   ]
  },
  {
   "cell_type": "code",
   "execution_count": 15,
   "id": "e7f5c0f5-6a21-4aa4-95e3-6099b06ca71f",
   "metadata": {},
   "outputs": [
    {
     "name": "stdin",
     "output_type": "stream",
     "text": [
      "enter number: 6\n"
     ]
    },
    {
     "name": "stdout",
     "output_type": "stream",
     "text": [
      "6 * 1 = 6\n",
      "6 * 2 = 12\n",
      "6 * 3 = 18\n",
      "6 * 4 = 24\n",
      "6 * 5 = 30\n",
      "6 * 6 = 36\n"
     ]
    }
   ],
   "source": [
    "#Write a program that prints the multiplication table of a given number.\n",
    "num = int(input('enter number:'))\n",
    "result=0\n",
    "for i in range(1,num+1):\n",
    "    result = num*i\n",
    "    print(num,'*',i,'=',result)"
   ]
  },
  {
   "cell_type": "markdown",
   "id": "0f9f4e20-2b9c-413f-908d-0844f83a0473",
   "metadata": {},
   "source": [
    "#While Loop"
   ]
  },
  {
   "cell_type": "code",
   "execution_count": 16,
   "id": "325af645-b9f5-4ce6-b696-1fc8ed9c0af6",
   "metadata": {},
   "outputs": [
    {
     "name": "stdin",
     "output_type": "stream",
     "text": [
      "enter an even number: 6\n"
     ]
    },
    {
     "name": "stdout",
     "output_type": "stream",
     "text": [
      "12\n"
     ]
    }
   ],
   "source": [
    "#Write a program that finds the sum of all even numbers between 1 and `n`\n",
    "num = int(input('enter an even number:'))\n",
    "i = 2 \n",
    "sum = 0\n",
    "while(i<=num):\n",
    "    sum = sum + i\n",
    "    i=i+2\n",
    "print(sum)\n"
   ]
  },
  {
   "cell_type": "code",
   "execution_count": 17,
   "id": "415afef3-bb5d-4b1a-83c7-7e39551e6579",
   "metadata": {},
   "outputs": [
    {
     "name": "stdin",
     "output_type": "stream",
     "text": [
      "enter an odd number: 1\n"
     ]
    },
    {
     "name": "stdout",
     "output_type": "stream",
     "text": [
      "1\n"
     ]
    }
   ],
   "source": [
    "#Write a program that finds the sum of all odd numbers between 1 and `n`\n",
    "num = int(input('enter an odd number:'))\n",
    "i = 1 \n",
    "sum = 0\n",
    "while(i<=num):\n",
    "    sum = sum + i\n",
    "    i=i+2\n",
    "print(sum)\n"
   ]
  },
  {
   "cell_type": "code",
   "execution_count": 19,
   "id": "6f5f9ff6-2387-4969-b290-b0ed34a78964",
   "metadata": {},
   "outputs": [
    {
     "name": "stdin",
     "output_type": "stream",
     "text": [
      "enter number: 25\n"
     ]
    },
    {
     "name": "stdout",
     "output_type": "stream",
     "text": [
      "revese: 52\n"
     ]
    }
   ],
   "source": [
    "#Write a program that reverses a given number\n",
    "num =int(input('enter number:'))\n",
    "rev = 0\n",
    "while(num>0):\n",
    "    rev=(rev*10)+ num%10\n",
    "    num=num//10\n",
    "print('revese:',rev)\n"
   ]
  },
  {
   "cell_type": "code",
   "execution_count": 2,
   "id": "57c7dd91-d5d5-4f1d-a77c-88e534112a05",
   "metadata": {},
   "outputs": [
    {
     "name": "stdin",
     "output_type": "stream",
     "text": [
      "enter number between 1 to 50: 15\n"
     ]
    },
    {
     "name": "stdout",
     "output_type": "stream",
     "text": [
      "Too high\n"
     ]
    },
    {
     "name": "stdin",
     "output_type": "stream",
     "text": [
      "enter number between 1 to 50: 25\n"
     ]
    },
    {
     "name": "stdout",
     "output_type": "stream",
     "text": [
      "Too high\n"
     ]
    },
    {
     "name": "stdin",
     "output_type": "stream",
     "text": [
      "enter number between 1 to 50: 123\n"
     ]
    },
    {
     "name": "stdout",
     "output_type": "stream",
     "text": [
      "Too low\n"
     ]
    },
    {
     "name": "stdin",
     "output_type": "stream",
     "text": [
      "enter number between 1 to 50: 52\n"
     ]
    },
    {
     "name": "stdout",
     "output_type": "stream",
     "text": [
      "Too low\n"
     ]
    },
    {
     "name": "stdin",
     "output_type": "stream",
     "text": [
      "enter number between 1 to 50: 25\n"
     ]
    },
    {
     "name": "stdout",
     "output_type": "stream",
     "text": [
      "Too high\n"
     ]
    }
   ],
   "source": [
    "# Write a program that generates a random number and allows the user to guess it\n",
    "import random \n",
    "num = random.randint(1,50)\n",
    "tries = 3\n",
    "\n",
    "while (tries>0):\n",
    "    user_input =int(input('enter number between 1 to 50:'))\n",
    "    if(num>user_input):\n",
    "        print('Too high')\n",
    "        tries -=1\n",
    "    elif(num<user_input):\n",
    "        print('Too low')\n",
    "        tries -=1\n",
    "    elif(num == user_input):\n",
    "        print('Congratulations! you guest it')"
   ]
  },
  {
   "cell_type": "code",
   "execution_count": 1,
   "id": "e76095f8-7f0e-4075-ab50-92957bf5de31",
   "metadata": {},
   "outputs": [
    {
     "name": "stdin",
     "output_type": "stream",
     "text": [
      "enter number : 5\n",
      "enter number : 4\n"
     ]
    },
    {
     "name": "stdout",
     "output_type": "stream",
     "text": [
      "GCD of two number: 1\n"
     ]
    }
   ],
   "source": [
    "#Write a program that finds the greatest common divisor (GCD) of two numbers\n",
    "a=int(input('enter number :'))\n",
    "b=int(input('enter number :'))\n",
    "i = 1\n",
    "while(i<=a and i<=b):\n",
    "    if(a%i == 0 and b%i ==0):\n",
    "        gcd=i\n",
    "    i+=1\n",
    "print('GCD of two number:',gcd)"
   ]
  },
  {
   "cell_type": "code",
   "execution_count": null,
   "id": "f202c539-bf23-4884-84bd-3c6f67d520f6",
   "metadata": {},
   "outputs": [],
   "source": []
  }
 ],
 "metadata": {
  "kernelspec": {
   "display_name": "Python 3 (ipykernel)",
   "language": "python",
   "name": "python3"
  },
  "language_info": {
   "codemirror_mode": {
    "name": "ipython",
    "version": 3
   },
   "file_extension": ".py",
   "mimetype": "text/x-python",
   "name": "python",
   "nbconvert_exporter": "python",
   "pygments_lexer": "ipython3",
   "version": "3.11.7"
  }
 },
 "nbformat": 4,
 "nbformat_minor": 5
}
